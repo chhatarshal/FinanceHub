{
  "nbformat": 4,
  "nbformat_minor": 0,
  "metadata": {
    "colab": {
      "name": "finance_1.0_.ipynb",
      "provenance": [],
      "collapsed_sections": [],
      "authorship_tag": "ABX9TyNg1Wr7SSNMUGoJancW0r93",
      "include_colab_link": true
    },
    "kernelspec": {
      "name": "python3",
      "display_name": "Python 3"
    },
    "language_info": {
      "name": "python"
    }
  },
  "cells": [
    {
      "cell_type": "markdown",
      "metadata": {
        "id": "view-in-github",
        "colab_type": "text"
      },
      "source": [
        "<a href=\"https://colab.research.google.com/github/chhatarshal/FinanceHub/blob/main/finance_1_0_.ipynb\" target=\"_parent\"><img src=\"https://colab.research.google.com/assets/colab-badge.svg\" alt=\"Open In Colab\"/></a>"
      ]
    },
    {
      "cell_type": "code",
      "execution_count": 2,
      "metadata": {
        "colab": {
          "base_uri": "https://localhost:8080/"
        },
        "id": "oLvJ5VJmnIBZ",
        "outputId": "b514a5d9-0855-4f69-cba8-3ea256d7bd8c"
      },
      "outputs": [
        {
          "output_type": "stream",
          "name": "stdout",
          "text": [
            "Collecting yfinance\n",
            "  Downloading yfinance-0.1.69-py2.py3-none-any.whl (26 kB)\n",
            "Requirement already satisfied: multitasking>=0.0.7 in /usr/local/lib/python3.7/dist-packages (from yfinance) (0.0.10)\n",
            "Requirement already satisfied: numpy>=1.15 in /usr/local/lib/python3.7/dist-packages (from yfinance) (1.19.5)\n",
            "Collecting requests>=2.26\n",
            "  Downloading requests-2.27.1-py2.py3-none-any.whl (63 kB)\n",
            "\u001b[K     |████████████████████████████████| 63 kB 1.8 MB/s \n",
            "\u001b[?25hCollecting lxml>=4.5.1\n",
            "  Downloading lxml-4.7.1-cp37-cp37m-manylinux_2_17_x86_64.manylinux2014_x86_64.manylinux_2_24_x86_64.whl (6.4 MB)\n",
            "\u001b[K     |████████████████████████████████| 6.4 MB 16.4 MB/s \n",
            "\u001b[?25hRequirement already satisfied: pandas>=0.24 in /usr/local/lib/python3.7/dist-packages (from yfinance) (1.1.5)\n",
            "Requirement already satisfied: pytz>=2017.2 in /usr/local/lib/python3.7/dist-packages (from pandas>=0.24->yfinance) (2018.9)\n",
            "Requirement already satisfied: python-dateutil>=2.7.3 in /usr/local/lib/python3.7/dist-packages (from pandas>=0.24->yfinance) (2.8.2)\n",
            "Requirement already satisfied: six>=1.5 in /usr/local/lib/python3.7/dist-packages (from python-dateutil>=2.7.3->pandas>=0.24->yfinance) (1.15.0)\n",
            "Requirement already satisfied: certifi>=2017.4.17 in /usr/local/lib/python3.7/dist-packages (from requests>=2.26->yfinance) (2021.10.8)\n",
            "Requirement already satisfied: idna<4,>=2.5 in /usr/local/lib/python3.7/dist-packages (from requests>=2.26->yfinance) (2.10)\n",
            "Requirement already satisfied: charset-normalizer~=2.0.0 in /usr/local/lib/python3.7/dist-packages (from requests>=2.26->yfinance) (2.0.10)\n",
            "Requirement already satisfied: urllib3<1.27,>=1.21.1 in /usr/local/lib/python3.7/dist-packages (from requests>=2.26->yfinance) (1.24.3)\n",
            "Installing collected packages: requests, lxml, yfinance\n",
            "  Attempting uninstall: requests\n",
            "    Found existing installation: requests 2.23.0\n",
            "    Uninstalling requests-2.23.0:\n",
            "      Successfully uninstalled requests-2.23.0\n",
            "  Attempting uninstall: lxml\n",
            "    Found existing installation: lxml 4.2.6\n",
            "    Uninstalling lxml-4.2.6:\n",
            "      Successfully uninstalled lxml-4.2.6\n",
            "\u001b[31mERROR: pip's dependency resolver does not currently take into account all the packages that are installed. This behaviour is the source of the following dependency conflicts.\n",
            "google-colab 1.0.0 requires requests~=2.23.0, but you have requests 2.27.1 which is incompatible.\n",
            "datascience 0.10.6 requires folium==0.2.1, but you have folium 0.8.3 which is incompatible.\u001b[0m\n",
            "Successfully installed lxml-4.7.1 requests-2.27.1 yfinance-0.1.69\n"
          ]
        }
      ],
      "source": [
        "!pip install yfinance\n"
      ]
    },
    {
      "cell_type": "code",
      "source": [
        "import yfinance as yf"
      ],
      "metadata": {
        "id": "wcO72caMoYf4"
      },
      "execution_count": 4,
      "outputs": []
    },
    {
      "cell_type": "code",
      "source": [
        "data = yf.download(\"DOLATALGO.NS\", start=\"2021-12-31\", end=\"2022-01-17\")"
      ],
      "metadata": {
        "colab": {
          "base_uri": "https://localhost:8080/"
        },
        "id": "UkaZHtSUomuv",
        "outputId": "93e48107-c63b-45ed-d702-fabd9cafe3fe"
      },
      "execution_count": 13,
      "outputs": [
        {
          "output_type": "stream",
          "name": "stdout",
          "text": [
            "\r[*********************100%***********************]  1 of 1 completed\n"
          ]
        }
      ]
    },
    {
      "cell_type": "code",
      "source": [
        "data"
      ],
      "metadata": {
        "colab": {
          "base_uri": "https://localhost:8080/",
          "height": 425
        },
        "id": "mkQJRpuXo4Wg",
        "outputId": "ddf4eab6-6c59-46fa-9a82-f9bfd7b615ae"
      },
      "execution_count": 14,
      "outputs": [
        {
          "output_type": "execute_result",
          "data": {
            "text/html": [
              "\n",
              "  <div id=\"df-d0ee71da-118d-4497-923c-d8db5a9a132a\">\n",
              "    <div class=\"colab-df-container\">\n",
              "      <div>\n",
              "<style scoped>\n",
              "    .dataframe tbody tr th:only-of-type {\n",
              "        vertical-align: middle;\n",
              "    }\n",
              "\n",
              "    .dataframe tbody tr th {\n",
              "        vertical-align: top;\n",
              "    }\n",
              "\n",
              "    .dataframe thead th {\n",
              "        text-align: right;\n",
              "    }\n",
              "</style>\n",
              "<table border=\"1\" class=\"dataframe\">\n",
              "  <thead>\n",
              "    <tr style=\"text-align: right;\">\n",
              "      <th></th>\n",
              "      <th>Open</th>\n",
              "      <th>High</th>\n",
              "      <th>Low</th>\n",
              "      <th>Close</th>\n",
              "      <th>Adj Close</th>\n",
              "      <th>Volume</th>\n",
              "    </tr>\n",
              "    <tr>\n",
              "      <th>Date</th>\n",
              "      <th></th>\n",
              "      <th></th>\n",
              "      <th></th>\n",
              "      <th></th>\n",
              "      <th></th>\n",
              "      <th></th>\n",
              "    </tr>\n",
              "  </thead>\n",
              "  <tbody>\n",
              "    <tr>\n",
              "      <th>2021-12-31</th>\n",
              "      <td>89.000000</td>\n",
              "      <td>95.550003</td>\n",
              "      <td>87.900002</td>\n",
              "      <td>90.300003</td>\n",
              "      <td>90.300003</td>\n",
              "      <td>926506</td>\n",
              "    </tr>\n",
              "    <tr>\n",
              "      <th>2022-01-03</th>\n",
              "      <td>90.300003</td>\n",
              "      <td>90.300003</td>\n",
              "      <td>87.300003</td>\n",
              "      <td>87.650002</td>\n",
              "      <td>87.650002</td>\n",
              "      <td>406401</td>\n",
              "    </tr>\n",
              "    <tr>\n",
              "      <th>2022-01-04</th>\n",
              "      <td>88.699997</td>\n",
              "      <td>88.699997</td>\n",
              "      <td>85.800003</td>\n",
              "      <td>86.500000</td>\n",
              "      <td>86.500000</td>\n",
              "      <td>181350</td>\n",
              "    </tr>\n",
              "    <tr>\n",
              "      <th>2022-01-05</th>\n",
              "      <td>86.699997</td>\n",
              "      <td>92.000000</td>\n",
              "      <td>85.750000</td>\n",
              "      <td>88.500000</td>\n",
              "      <td>88.500000</td>\n",
              "      <td>514754</td>\n",
              "    </tr>\n",
              "    <tr>\n",
              "      <th>2022-01-06</th>\n",
              "      <td>88.000000</td>\n",
              "      <td>90.199997</td>\n",
              "      <td>88.000000</td>\n",
              "      <td>88.650002</td>\n",
              "      <td>88.650002</td>\n",
              "      <td>158165</td>\n",
              "    </tr>\n",
              "    <tr>\n",
              "      <th>2022-01-07</th>\n",
              "      <td>89.000000</td>\n",
              "      <td>90.500000</td>\n",
              "      <td>87.800003</td>\n",
              "      <td>88.650002</td>\n",
              "      <td>88.650002</td>\n",
              "      <td>190141</td>\n",
              "    </tr>\n",
              "    <tr>\n",
              "      <th>2022-01-10</th>\n",
              "      <td>89.699997</td>\n",
              "      <td>89.699997</td>\n",
              "      <td>87.550003</td>\n",
              "      <td>87.849998</td>\n",
              "      <td>87.849998</td>\n",
              "      <td>150780</td>\n",
              "    </tr>\n",
              "    <tr>\n",
              "      <th>2022-01-11</th>\n",
              "      <td>88.699997</td>\n",
              "      <td>89.400002</td>\n",
              "      <td>87.150002</td>\n",
              "      <td>87.750000</td>\n",
              "      <td>87.750000</td>\n",
              "      <td>168992</td>\n",
              "    </tr>\n",
              "    <tr>\n",
              "      <th>2022-01-12</th>\n",
              "      <td>87.250000</td>\n",
              "      <td>88.949997</td>\n",
              "      <td>86.500000</td>\n",
              "      <td>87.500000</td>\n",
              "      <td>87.500000</td>\n",
              "      <td>126764</td>\n",
              "    </tr>\n",
              "    <tr>\n",
              "      <th>2022-01-13</th>\n",
              "      <td>88.000000</td>\n",
              "      <td>88.349998</td>\n",
              "      <td>86.199997</td>\n",
              "      <td>86.650002</td>\n",
              "      <td>86.650002</td>\n",
              "      <td>106514</td>\n",
              "    </tr>\n",
              "    <tr>\n",
              "      <th>2022-01-14</th>\n",
              "      <td>86.000000</td>\n",
              "      <td>87.800003</td>\n",
              "      <td>85.000000</td>\n",
              "      <td>86.550003</td>\n",
              "      <td>86.550003</td>\n",
              "      <td>134195</td>\n",
              "    </tr>\n",
              "  </tbody>\n",
              "</table>\n",
              "</div>\n",
              "      <button class=\"colab-df-convert\" onclick=\"convertToInteractive('df-d0ee71da-118d-4497-923c-d8db5a9a132a')\"\n",
              "              title=\"Convert this dataframe to an interactive table.\"\n",
              "              style=\"display:none;\">\n",
              "        \n",
              "  <svg xmlns=\"http://www.w3.org/2000/svg\" height=\"24px\"viewBox=\"0 0 24 24\"\n",
              "       width=\"24px\">\n",
              "    <path d=\"M0 0h24v24H0V0z\" fill=\"none\"/>\n",
              "    <path d=\"M18.56 5.44l.94 2.06.94-2.06 2.06-.94-2.06-.94-.94-2.06-.94 2.06-2.06.94zm-11 1L8.5 8.5l.94-2.06 2.06-.94-2.06-.94L8.5 2.5l-.94 2.06-2.06.94zm10 10l.94 2.06.94-2.06 2.06-.94-2.06-.94-.94-2.06-.94 2.06-2.06.94z\"/><path d=\"M17.41 7.96l-1.37-1.37c-.4-.4-.92-.59-1.43-.59-.52 0-1.04.2-1.43.59L10.3 9.45l-7.72 7.72c-.78.78-.78 2.05 0 2.83L4 21.41c.39.39.9.59 1.41.59.51 0 1.02-.2 1.41-.59l7.78-7.78 2.81-2.81c.8-.78.8-2.07 0-2.86zM5.41 20L4 18.59l7.72-7.72 1.47 1.35L5.41 20z\"/>\n",
              "  </svg>\n",
              "      </button>\n",
              "      \n",
              "  <style>\n",
              "    .colab-df-container {\n",
              "      display:flex;\n",
              "      flex-wrap:wrap;\n",
              "      gap: 12px;\n",
              "    }\n",
              "\n",
              "    .colab-df-convert {\n",
              "      background-color: #E8F0FE;\n",
              "      border: none;\n",
              "      border-radius: 50%;\n",
              "      cursor: pointer;\n",
              "      display: none;\n",
              "      fill: #1967D2;\n",
              "      height: 32px;\n",
              "      padding: 0 0 0 0;\n",
              "      width: 32px;\n",
              "    }\n",
              "\n",
              "    .colab-df-convert:hover {\n",
              "      background-color: #E2EBFA;\n",
              "      box-shadow: 0px 1px 2px rgba(60, 64, 67, 0.3), 0px 1px 3px 1px rgba(60, 64, 67, 0.15);\n",
              "      fill: #174EA6;\n",
              "    }\n",
              "\n",
              "    [theme=dark] .colab-df-convert {\n",
              "      background-color: #3B4455;\n",
              "      fill: #D2E3FC;\n",
              "    }\n",
              "\n",
              "    [theme=dark] .colab-df-convert:hover {\n",
              "      background-color: #434B5C;\n",
              "      box-shadow: 0px 1px 3px 1px rgba(0, 0, 0, 0.15);\n",
              "      filter: drop-shadow(0px 1px 2px rgba(0, 0, 0, 0.3));\n",
              "      fill: #FFFFFF;\n",
              "    }\n",
              "  </style>\n",
              "\n",
              "      <script>\n",
              "        const buttonEl =\n",
              "          document.querySelector('#df-d0ee71da-118d-4497-923c-d8db5a9a132a button.colab-df-convert');\n",
              "        buttonEl.style.display =\n",
              "          google.colab.kernel.accessAllowed ? 'block' : 'none';\n",
              "\n",
              "        async function convertToInteractive(key) {\n",
              "          const element = document.querySelector('#df-d0ee71da-118d-4497-923c-d8db5a9a132a');\n",
              "          const dataTable =\n",
              "            await google.colab.kernel.invokeFunction('convertToInteractive',\n",
              "                                                     [key], {});\n",
              "          if (!dataTable) return;\n",
              "\n",
              "          const docLinkHtml = 'Like what you see? Visit the ' +\n",
              "            '<a target=\"_blank\" href=https://colab.research.google.com/notebooks/data_table.ipynb>data table notebook</a>'\n",
              "            + ' to learn more about interactive tables.';\n",
              "          element.innerHTML = '';\n",
              "          dataTable['output_type'] = 'display_data';\n",
              "          await google.colab.output.renderOutput(dataTable, element);\n",
              "          const docLink = document.createElement('div');\n",
              "          docLink.innerHTML = docLinkHtml;\n",
              "          element.appendChild(docLink);\n",
              "        }\n",
              "      </script>\n",
              "    </div>\n",
              "  </div>\n",
              "  "
            ],
            "text/plain": [
              "                 Open       High        Low      Close  Adj Close  Volume\n",
              "Date                                                                     \n",
              "2021-12-31  89.000000  95.550003  87.900002  90.300003  90.300003  926506\n",
              "2022-01-03  90.300003  90.300003  87.300003  87.650002  87.650002  406401\n",
              "2022-01-04  88.699997  88.699997  85.800003  86.500000  86.500000  181350\n",
              "2022-01-05  86.699997  92.000000  85.750000  88.500000  88.500000  514754\n",
              "2022-01-06  88.000000  90.199997  88.000000  88.650002  88.650002  158165\n",
              "2022-01-07  89.000000  90.500000  87.800003  88.650002  88.650002  190141\n",
              "2022-01-10  89.699997  89.699997  87.550003  87.849998  87.849998  150780\n",
              "2022-01-11  88.699997  89.400002  87.150002  87.750000  87.750000  168992\n",
              "2022-01-12  87.250000  88.949997  86.500000  87.500000  87.500000  126764\n",
              "2022-01-13  88.000000  88.349998  86.199997  86.650002  86.650002  106514\n",
              "2022-01-14  86.000000  87.800003  85.000000  86.550003  86.550003  134195"
            ]
          },
          "metadata": {},
          "execution_count": 14
        }
      ]
    },
    {
      "cell_type": "code",
      "source": [
        "#Lets get intra day Data"
      ],
      "metadata": {
        "id": "SfU1FHyCo5zR"
      },
      "execution_count": 15,
      "outputs": []
    },
    {
      "cell_type": "code",
      "source": [
        "data_ = yf.download(\"TATAPOWER.NS\", period=\"1week\", interval=\"5m\")"
      ],
      "metadata": {
        "colab": {
          "base_uri": "https://localhost:8080/"
        },
        "id": "7Oxr_5ums3T0",
        "outputId": "46b8b33d-4f5b-410e-cfee-3b320aa47fcc"
      },
      "execution_count": 19,
      "outputs": [
        {
          "output_type": "stream",
          "name": "stdout",
          "text": [
            "\r[*********************100%***********************]  1 of 1 completed\n"
          ]
        }
      ]
    },
    {
      "cell_type": "code",
      "source": [
        "data_"
      ],
      "metadata": {
        "colab": {
          "base_uri": "https://localhost:8080/",
          "height": 455
        },
        "id": "crCM4lG9tOWV",
        "outputId": "db03f67b-5059-4d3b-8db3-fe35148e1753"
      },
      "execution_count": 20,
      "outputs": [
        {
          "output_type": "execute_result",
          "data": {
            "text/html": [
              "\n",
              "  <div id=\"df-555d0903-4de6-4a13-93c3-76dc6c7b4f39\">\n",
              "    <div class=\"colab-df-container\">\n",
              "      <div>\n",
              "<style scoped>\n",
              "    .dataframe tbody tr th:only-of-type {\n",
              "        vertical-align: middle;\n",
              "    }\n",
              "\n",
              "    .dataframe tbody tr th {\n",
              "        vertical-align: top;\n",
              "    }\n",
              "\n",
              "    .dataframe thead th {\n",
              "        text-align: right;\n",
              "    }\n",
              "</style>\n",
              "<table border=\"1\" class=\"dataframe\">\n",
              "  <thead>\n",
              "    <tr style=\"text-align: right;\">\n",
              "      <th></th>\n",
              "      <th>Open</th>\n",
              "      <th>High</th>\n",
              "      <th>Low</th>\n",
              "      <th>Close</th>\n",
              "      <th>Adj Close</th>\n",
              "      <th>Volume</th>\n",
              "    </tr>\n",
              "    <tr>\n",
              "      <th>Datetime</th>\n",
              "      <th></th>\n",
              "      <th></th>\n",
              "      <th></th>\n",
              "      <th></th>\n",
              "      <th></th>\n",
              "      <th></th>\n",
              "    </tr>\n",
              "  </thead>\n",
              "  <tbody>\n",
              "    <tr>\n",
              "      <th>2022-01-17 09:15:00+05:30</th>\n",
              "      <td>245.699997</td>\n",
              "      <td>247.850006</td>\n",
              "      <td>245.350006</td>\n",
              "      <td>247.000000</td>\n",
              "      <td>247.000000</td>\n",
              "      <td>1552991</td>\n",
              "    </tr>\n",
              "    <tr>\n",
              "      <th>2022-01-17 09:20:00+05:30</th>\n",
              "      <td>247.050003</td>\n",
              "      <td>247.050003</td>\n",
              "      <td>245.800003</td>\n",
              "      <td>246.000000</td>\n",
              "      <td>246.000000</td>\n",
              "      <td>1214777</td>\n",
              "    </tr>\n",
              "    <tr>\n",
              "      <th>2022-01-17 09:25:00+05:30</th>\n",
              "      <td>246.000000</td>\n",
              "      <td>246.300003</td>\n",
              "      <td>245.500000</td>\n",
              "      <td>245.600006</td>\n",
              "      <td>245.600006</td>\n",
              "      <td>734538</td>\n",
              "    </tr>\n",
              "    <tr>\n",
              "      <th>2022-01-17 09:30:00+05:30</th>\n",
              "      <td>245.600006</td>\n",
              "      <td>246.399994</td>\n",
              "      <td>245.500000</td>\n",
              "      <td>245.949997</td>\n",
              "      <td>245.949997</td>\n",
              "      <td>571188</td>\n",
              "    </tr>\n",
              "    <tr>\n",
              "      <th>2022-01-17 09:35:00+05:30</th>\n",
              "      <td>245.899994</td>\n",
              "      <td>246.800003</td>\n",
              "      <td>245.649994</td>\n",
              "      <td>246.800003</td>\n",
              "      <td>246.800003</td>\n",
              "      <td>645581</td>\n",
              "    </tr>\n",
              "    <tr>\n",
              "      <th>...</th>\n",
              "      <td>...</td>\n",
              "      <td>...</td>\n",
              "      <td>...</td>\n",
              "      <td>...</td>\n",
              "      <td>...</td>\n",
              "      <td>...</td>\n",
              "    </tr>\n",
              "    <tr>\n",
              "      <th>2022-01-17 15:05:00+05:30</th>\n",
              "      <td>247.850006</td>\n",
              "      <td>247.899994</td>\n",
              "      <td>247.649994</td>\n",
              "      <td>247.800003</td>\n",
              "      <td>247.800003</td>\n",
              "      <td>162824</td>\n",
              "    </tr>\n",
              "    <tr>\n",
              "      <th>2022-01-17 15:10:00+05:30</th>\n",
              "      <td>247.850006</td>\n",
              "      <td>247.899994</td>\n",
              "      <td>247.699997</td>\n",
              "      <td>247.899994</td>\n",
              "      <td>247.899994</td>\n",
              "      <td>266774</td>\n",
              "    </tr>\n",
              "    <tr>\n",
              "      <th>2022-01-17 15:15:00+05:30</th>\n",
              "      <td>247.800003</td>\n",
              "      <td>248.000000</td>\n",
              "      <td>247.699997</td>\n",
              "      <td>247.699997</td>\n",
              "      <td>247.699997</td>\n",
              "      <td>455838</td>\n",
              "    </tr>\n",
              "    <tr>\n",
              "      <th>2022-01-17 15:20:00+05:30</th>\n",
              "      <td>247.699997</td>\n",
              "      <td>248.100006</td>\n",
              "      <td>247.699997</td>\n",
              "      <td>247.949997</td>\n",
              "      <td>247.949997</td>\n",
              "      <td>631734</td>\n",
              "    </tr>\n",
              "    <tr>\n",
              "      <th>2022-01-17 15:25:00+05:30</th>\n",
              "      <td>247.949997</td>\n",
              "      <td>248.100006</td>\n",
              "      <td>247.800003</td>\n",
              "      <td>248.100006</td>\n",
              "      <td>248.100006</td>\n",
              "      <td>638138</td>\n",
              "    </tr>\n",
              "  </tbody>\n",
              "</table>\n",
              "<p>75 rows × 6 columns</p>\n",
              "</div>\n",
              "      <button class=\"colab-df-convert\" onclick=\"convertToInteractive('df-555d0903-4de6-4a13-93c3-76dc6c7b4f39')\"\n",
              "              title=\"Convert this dataframe to an interactive table.\"\n",
              "              style=\"display:none;\">\n",
              "        \n",
              "  <svg xmlns=\"http://www.w3.org/2000/svg\" height=\"24px\"viewBox=\"0 0 24 24\"\n",
              "       width=\"24px\">\n",
              "    <path d=\"M0 0h24v24H0V0z\" fill=\"none\"/>\n",
              "    <path d=\"M18.56 5.44l.94 2.06.94-2.06 2.06-.94-2.06-.94-.94-2.06-.94 2.06-2.06.94zm-11 1L8.5 8.5l.94-2.06 2.06-.94-2.06-.94L8.5 2.5l-.94 2.06-2.06.94zm10 10l.94 2.06.94-2.06 2.06-.94-2.06-.94-.94-2.06-.94 2.06-2.06.94z\"/><path d=\"M17.41 7.96l-1.37-1.37c-.4-.4-.92-.59-1.43-.59-.52 0-1.04.2-1.43.59L10.3 9.45l-7.72 7.72c-.78.78-.78 2.05 0 2.83L4 21.41c.39.39.9.59 1.41.59.51 0 1.02-.2 1.41-.59l7.78-7.78 2.81-2.81c.8-.78.8-2.07 0-2.86zM5.41 20L4 18.59l7.72-7.72 1.47 1.35L5.41 20z\"/>\n",
              "  </svg>\n",
              "      </button>\n",
              "      \n",
              "  <style>\n",
              "    .colab-df-container {\n",
              "      display:flex;\n",
              "      flex-wrap:wrap;\n",
              "      gap: 12px;\n",
              "    }\n",
              "\n",
              "    .colab-df-convert {\n",
              "      background-color: #E8F0FE;\n",
              "      border: none;\n",
              "      border-radius: 50%;\n",
              "      cursor: pointer;\n",
              "      display: none;\n",
              "      fill: #1967D2;\n",
              "      height: 32px;\n",
              "      padding: 0 0 0 0;\n",
              "      width: 32px;\n",
              "    }\n",
              "\n",
              "    .colab-df-convert:hover {\n",
              "      background-color: #E2EBFA;\n",
              "      box-shadow: 0px 1px 2px rgba(60, 64, 67, 0.3), 0px 1px 3px 1px rgba(60, 64, 67, 0.15);\n",
              "      fill: #174EA6;\n",
              "    }\n",
              "\n",
              "    [theme=dark] .colab-df-convert {\n",
              "      background-color: #3B4455;\n",
              "      fill: #D2E3FC;\n",
              "    }\n",
              "\n",
              "    [theme=dark] .colab-df-convert:hover {\n",
              "      background-color: #434B5C;\n",
              "      box-shadow: 0px 1px 3px 1px rgba(0, 0, 0, 0.15);\n",
              "      filter: drop-shadow(0px 1px 2px rgba(0, 0, 0, 0.3));\n",
              "      fill: #FFFFFF;\n",
              "    }\n",
              "  </style>\n",
              "\n",
              "      <script>\n",
              "        const buttonEl =\n",
              "          document.querySelector('#df-555d0903-4de6-4a13-93c3-76dc6c7b4f39 button.colab-df-convert');\n",
              "        buttonEl.style.display =\n",
              "          google.colab.kernel.accessAllowed ? 'block' : 'none';\n",
              "\n",
              "        async function convertToInteractive(key) {\n",
              "          const element = document.querySelector('#df-555d0903-4de6-4a13-93c3-76dc6c7b4f39');\n",
              "          const dataTable =\n",
              "            await google.colab.kernel.invokeFunction('convertToInteractive',\n",
              "                                                     [key], {});\n",
              "          if (!dataTable) return;\n",
              "\n",
              "          const docLinkHtml = 'Like what you see? Visit the ' +\n",
              "            '<a target=\"_blank\" href=https://colab.research.google.com/notebooks/data_table.ipynb>data table notebook</a>'\n",
              "            + ' to learn more about interactive tables.';\n",
              "          element.innerHTML = '';\n",
              "          dataTable['output_type'] = 'display_data';\n",
              "          await google.colab.output.renderOutput(dataTable, element);\n",
              "          const docLink = document.createElement('div');\n",
              "          docLink.innerHTML = docLinkHtml;\n",
              "          element.appendChild(docLink);\n",
              "        }\n",
              "      </script>\n",
              "    </div>\n",
              "  </div>\n",
              "  "
            ],
            "text/plain": [
              "                                 Open        High  ...   Adj Close   Volume\n",
              "Datetime                                           ...                     \n",
              "2022-01-17 09:15:00+05:30  245.699997  247.850006  ...  247.000000  1552991\n",
              "2022-01-17 09:20:00+05:30  247.050003  247.050003  ...  246.000000  1214777\n",
              "2022-01-17 09:25:00+05:30  246.000000  246.300003  ...  245.600006   734538\n",
              "2022-01-17 09:30:00+05:30  245.600006  246.399994  ...  245.949997   571188\n",
              "2022-01-17 09:35:00+05:30  245.899994  246.800003  ...  246.800003   645581\n",
              "...                               ...         ...  ...         ...      ...\n",
              "2022-01-17 15:05:00+05:30  247.850006  247.899994  ...  247.800003   162824\n",
              "2022-01-17 15:10:00+05:30  247.850006  247.899994  ...  247.899994   266774\n",
              "2022-01-17 15:15:00+05:30  247.800003  248.000000  ...  247.699997   455838\n",
              "2022-01-17 15:20:00+05:30  247.699997  248.100006  ...  247.949997   631734\n",
              "2022-01-17 15:25:00+05:30  247.949997  248.100006  ...  248.100006   638138\n",
              "\n",
              "[75 rows x 6 columns]"
            ]
          },
          "metadata": {},
          "execution_count": 20
        }
      ]
    },
    {
      "cell_type": "code",
      "source": [
        ""
      ],
      "metadata": {
        "id": "hZlymi3AtUH2"
      },
      "execution_count": null,
      "outputs": []
    },
    {
      "cell_type": "markdown",
      "source": [
        "More details"
      ],
      "metadata": {
        "id": "WunNi5tDx_cy"
      }
    },
    {
      "cell_type": "code",
      "source": [
        "import datetime\n",
        "import pandas as pd"
      ],
      "metadata": {
        "id": "eHPn27tSyAw9"
      },
      "execution_count": 21,
      "outputs": []
    },
    {
      "cell_type": "code",
      "source": [
        "stocks = [\"AIRAN\", \"AMBUJACEM\", \"BIOGEN\", \"DOLATALGO\", \"DWARKESH\", \"EIDPARRY\",\n",
        "          \"IGL\", \"IIFLSEC\", \"IOC\", \"IOLCP\", \"IRCON\", \"IRFC\", \"JUNIORBEES\",\n",
        "          \"L&TFH\", \"LIKHITHA\", \"LLOYDSTEEL\", \"LT\", \"MANALIPETC\",\n",
        "          \"MANAPPURAM\", \"MARKSANS\", \"NCLRESE\", \"NIFTYBEES\", \"NTPS\",\n",
        "          \"PAYTM\", \"PETRONET\", \"PILITA\", \"PMCFIN\", \"POWERGRID\", \"RELIANCE\",\n",
        "          \"SAKSOFT\", \"SJVN\", \"SPICEJET\", \"TATAMOTORS\", \"TATAPOWER\",\n",
        "          \"TRIDENT\", \"VEDL\", \"VIKASWSP\", \"WIPRO\", \"YESBANK\", \"ZOMATO\"] "
      ],
      "metadata": {
        "id": "SXtwG9sbyGuS"
      },
      "execution_count": 22,
      "outputs": []
    },
    {
      "cell_type": "code",
      "source": [
        "start = datetime.datetime.today() - datetime.timedelta(30)\n",
        "end = datetime.datetime.today()"
      ],
      "metadata": {
        "id": "hYhi4K5-0DJs"
      },
      "execution_count": 32,
      "outputs": []
    },
    {
      "cell_type": "code",
      "source": [
        "cl_price = pd.DataFrame()"
      ],
      "metadata": {
        "id": "A07llewx0z2Q"
      },
      "execution_count": 34,
      "outputs": []
    },
    {
      "cell_type": "code",
      "source": [
        "for ticker in stocks:\n",
        "  cl_price[ticker] = yf.download(ticker + \".NS\", start, end)[\"Adj Close\"]"
      ],
      "metadata": {
        "id": "N28GcjFYz56f"
      },
      "execution_count": null,
      "outputs": []
    },
    {
      "cell_type": "code",
      "source": [
        "cl_price[\"ZOMATO\"]"
      ],
      "metadata": {
        "colab": {
          "base_uri": "https://localhost:8080/"
        },
        "id": "EUcNhQ3M0wd-",
        "outputId": "f45fcc04-62df-444c-dceb-a1ec690fff8b"
      },
      "execution_count": 41,
      "outputs": [
        {
          "output_type": "execute_result",
          "data": {
            "text/plain": [
              "Date\n",
              "2021-12-20    126.550003\n",
              "2021-12-21    131.600006\n",
              "2021-12-22    138.649994\n",
              "2021-12-23    133.000000\n",
              "2021-12-24    131.449997\n",
              "2021-12-27    132.750000\n",
              "2021-12-28    132.850006\n",
              "2021-12-29    137.100006\n",
              "2021-12-30    133.949997\n",
              "2021-12-31    137.399994\n",
              "2022-01-03    141.350006\n",
              "2022-01-04    138.350006\n",
              "2022-01-05    133.949997\n",
              "2022-01-06    130.000000\n",
              "2022-01-07    129.250000\n",
              "2022-01-10    130.199997\n",
              "2022-01-11    131.300003\n",
              "2022-01-12    132.250000\n",
              "2022-01-13    133.100006\n",
              "2022-01-14    133.600006\n",
              "2022-01-17    134.000000\n",
              "Name: ZOMATO, dtype: float64"
            ]
          },
          "metadata": {},
          "execution_count": 41
        }
      ]
    },
    {
      "cell_type": "code",
      "source": [
        "cl_price[\"ZOMATO\"].plot(x ='date', y='Stock Price', kind = 'line')\t"
      ],
      "metadata": {
        "colab": {
          "base_uri": "https://localhost:8080/",
          "height": 334
        },
        "id": "Y6xH030j1NO9",
        "outputId": "3f27afdc-62f2-4329-daf6-9944c9ff83cf"
      },
      "execution_count": 43,
      "outputs": [
        {
          "output_type": "execute_result",
          "data": {
            "text/plain": [
              "<matplotlib.axes._subplots.AxesSubplot at 0x7fdcb4fbb410>"
            ]
          },
          "metadata": {},
          "execution_count": 43
        },
        {
          "output_type": "display_data",
          "data": {
            "image/png": "[encoded data removed]",
            "text/plain": [
              "<Figure size 432x288 with 1 Axes>"
            ]
          },
          "metadata": {
            "needs_background": "light"
          }
        }
      ]
    },
    {
      "cell_type": "code",
      "source": [
        "for i in range(10):\n",
        "  cl_price[stocks[i]].plot(x ='date', y='Stock Price', label=stocks[i],  kind = 'line')\n",
        "  print(stocks[i])\n"
      ],
      "metadata": {
        "colab": {
          "base_uri": "https://localhost:8080/",
          "height": 487
        },
        "id": "SFbwy9BI3AiJ",
        "outputId": "20236b67-6875-4565-c369-df3191ddab28"
      },
      "execution_count": 56,
      "outputs": [
        {
          "output_type": "stream",
          "name": "stdout",
          "text": [
            "AIRAN\n",
            "AMBUJACEM\n",
            "BIOGEN\n",
            "DOLATALGO\n",
            "DWARKESH\n",
            "EIDPARRY\n",
            "IGL\n",
            "IIFLSEC\n",
            "IOC\n",
            "IOLCP\n"
          ]
        },
        {
          "output_type": "display_data",
          "data": {
            "image/png": "[encoded data removed]",
            "text/plain": [
              "<Figure size 432x288 with 1 Axes>"
            ]
          },
          "metadata": {
            "needs_background": "light"
          }
        }
      ]
    },
    {
      "cell_type": "code",
      "source": [
        "stocks[0]"
      ],
      "metadata": {
        "colab": {
          "base_uri": "https://localhost:8080/",
          "height": 35
        },
        "id": "kC33Wog93cD4",
        "outputId": "07721185-769e-42d5-ac4e-962e21da846d"
      },
      "execution_count": 47,
      "outputs": [
        {
          "output_type": "execute_result",
          "data": {
            "application/vnd.google.colaboratory.intrinsic+json": {
              "type": "string"
            },
            "text/plain": [
              "'AIRAN'"
            ]
          },
          "metadata": {},
          "execution_count": 47
        }
      ]
    },
    {
      "cell_type": "code",
      "source": [
        "cl_price[[\"DWARKESH\", \"DOLATALGO\", \"WIPRO\"]].plot.line()"
      ],
      "metadata": {
        "colab": {
          "base_uri": "https://localhost:8080/",
          "height": 332
        },
        "id": "7B8FvS2p36zT",
        "outputId": "19c5d997-6c3b-4fb0-b9fe-8862b2dfc960"
      },
      "execution_count": 69,
      "outputs": [
        {
          "output_type": "execute_result",
          "data": {
            "text/plain": [
              "<matplotlib.axes._subplots.AxesSubplot at 0x7fdcb47b2210>"
            ]
          },
          "metadata": {},
          "execution_count": 69
        },
        {
          "output_type": "display_data",
          "data": {
            "image/png": "[encoded data removed]",
            "text/plain": [
              "<Figure size 432x288 with 1 Axes>"
            ]
          },
          "metadata": {
            "needs_background": "light"
          }
        }
      ]
    },
    {
      "cell_type": "code",
      "source": [
        ""
      ],
      "metadata": {
        "id": "IrEDYmAh5lSy"
      },
      "execution_count": null,
      "outputs": []
    },
    {
      "cell_type": "markdown",
      "source": [
        "**Yahoo Finance** "
      ],
      "metadata": {
        "id": "udn9TCCW9O5I"
      }
    },
    {
      "cell_type": "code",
      "source": [
        "!pip install yahoofinance"
      ],
      "metadata": {
        "colab": {
          "base_uri": "https://localhost:8080/"
        },
        "id": "1c3ukoXb9T2l",
        "outputId": "16d9e007-c6f0-45b7-c0d2-c13ea49f29e9"
      },
      "execution_count": 71,
      "outputs": [
        {
          "output_type": "stream",
          "name": "stdout",
          "text": [
            "Collecting yahoofinance\n",
            "  Downloading yahoofinance-0.0.2-py3-none-any.whl (18 kB)\n",
            "Requirement already satisfied: beautifulsoup4>=4.6.3 in /usr/local/lib/python3.7/dist-packages (from yahoofinance) (4.6.3)\n",
            "Requirement already satisfied: pandas>=0.23.4 in /usr/local/lib/python3.7/dist-packages (from yahoofinance) (1.1.5)\n",
            "Requirement already satisfied: requests>=2.20.1 in /usr/local/lib/python3.7/dist-packages (from yahoofinance) (2.27.1)\n",
            "Requirement already satisfied: numpy>=1.15.4 in /usr/local/lib/python3.7/dist-packages (from pandas>=0.23.4->yahoofinance) (1.19.5)\n",
            "Requirement already satisfied: pytz>=2017.2 in /usr/local/lib/python3.7/dist-packages (from pandas>=0.23.4->yahoofinance) (2018.9)\n",
            "Requirement already satisfied: python-dateutil>=2.7.3 in /usr/local/lib/python3.7/dist-packages (from pandas>=0.23.4->yahoofinance) (2.8.2)\n",
            "Requirement already satisfied: six>=1.5 in /usr/local/lib/python3.7/dist-packages (from python-dateutil>=2.7.3->pandas>=0.23.4->yahoofinance) (1.15.0)\n",
            "Requirement already satisfied: idna<4,>=2.5 in /usr/local/lib/python3.7/dist-packages (from requests>=2.20.1->yahoofinance) (2.10)\n",
            "Requirement already satisfied: charset-normalizer~=2.0.0 in /usr/local/lib/python3.7/dist-packages (from requests>=2.20.1->yahoofinance) (2.0.10)\n",
            "Requirement already satisfied: certifi>=2017.4.17 in /usr/local/lib/python3.7/dist-packages (from requests>=2.20.1->yahoofinance) (2021.10.8)\n",
            "Requirement already satisfied: urllib3<1.27,>=1.21.1 in /usr/local/lib/python3.7/dist-packages (from requests>=2.20.1->yahoofinance) (1.24.3)\n",
            "Installing collected packages: yahoofinance\n",
            "Successfully installed yahoofinance-0.0.2\n"
          ]
        }
      ]
    },
    {
      "cell_type": "code",
      "source": [
        "!pip install yahoofinancials"
      ],
      "metadata": {
        "colab": {
          "base_uri": "https://localhost:8080/"
        },
        "id": "q8jJHCfo9ZPk",
        "outputId": "c9a7783a-12f6-40e0-b3e7-39a56d987531"
      },
      "execution_count": 73,
      "outputs": [
        {
          "output_type": "stream",
          "name": "stdout",
          "text": [
            "Collecting yahoofinancials\n",
            "  Downloading yahoofinancials-1.6.tar.gz (27 kB)\n",
            "Requirement already satisfied: beautifulsoup4 in /usr/local/lib/python3.7/dist-packages (from yahoofinancials) (4.6.3)\n",
            "Requirement already satisfied: pytz in /usr/local/lib/python3.7/dist-packages (from yahoofinancials) (2018.9)\n",
            "Building wheels for collected packages: yahoofinancials\n",
            "  Building wheel for yahoofinancials (setup.py) ... \u001b[?25l\u001b[?25hdone\n",
            "  Created wheel for yahoofinancials: filename=yahoofinancials-1.6-py3-none-any.whl size=15192 sha256=78ca098b2aaab4e3ea995dc87f287de208e57a57a4ddb7d3821446aad57b9b20\n",
            "  Stored in directory: /root/.cache/pip/wheels/4b/63/46/e7110bfee88685fe69e338d1b14d1748921862aa57b6705b60\n",
            "Successfully built yahoofinancials\n",
            "Installing collected packages: yahoofinancials\n",
            "Successfully installed yahoofinancials-1.6\n"
          ]
        }
      ]
    },
    {
      "cell_type": "code",
      "source": [
        "from yahoofinancials import YahooFinancials"
      ],
      "metadata": {
        "id": "Tza-56g8-KTu"
      },
      "execution_count": 74,
      "outputs": []
    },
    {
      "cell_type": "code",
      "source": [
        "ticker = 'TATAPOWER.NS'\n",
        "yahoo_financials = YahooFinancials(ticker)\n",
        "data = yahoo_financials.get_historical_price_data(\"2021-12-31\", \"2022-01-17\", \"daily\")"
      ],
      "metadata": {
        "id": "zWPKtyQf_AZX"
      },
      "execution_count": 77,
      "outputs": []
    },
    {
      "cell_type": "code",
      "source": [
        "data"
      ],
      "metadata": {
        "colab": {
          "base_uri": "https://localhost:8080/"
        },
        "id": "p_RpZJns_QX_",
        "outputId": "5c0e583c-abac-4538-ab02-3dbcd26c61c5"
      },
      "execution_count": 78,
      "outputs": [
        {
          "output_type": "execute_result",
          "data": {
            "text/plain": [
              "{'TATAPOWER.NS': {'currency': 'INR',\n",
              "  'eventsData': {},\n",
              "  'firstTradeDate': {'date': 820467900, 'formatted_date': '1996-01-01'},\n",
              "  'instrumentType': 'EQUITY',\n",
              "  'prices': [{'adjclose': 220.9499969482422,\n",
              "    'close': 220.9499969482422,\n",
              "    'date': 1640922300,\n",
              "    'formatted_date': '2021-12-31',\n",
              "    'high': 222.0,\n",
              "    'low': 218.35000610351562,\n",
              "    'open': 218.89999389648438,\n",
              "    'volume': 12737974},\n",
              "   {'adjclose': 223.39999389648438,\n",
              "    'close': 223.39999389648438,\n",
              "    'date': 1641181500,\n",
              "    'formatted_date': '2022-01-03',\n",
              "    'high': 223.89999389648438,\n",
              "    'low': 216.0,\n",
              "    'open': 221.1999969482422,\n",
              "    'volume': 19062825},\n",
              "   {'adjclose': 226.3000030517578,\n",
              "    'close': 226.3000030517578,\n",
              "    'date': 1641267900,\n",
              "    'formatted_date': '2022-01-04',\n",
              "    'high': 228.25,\n",
              "    'low': 221.0,\n",
              "    'open': 224.3000030517578,\n",
              "    'volume': 32469988},\n",
              "   {'adjclose': 223.5,\n",
              "    'close': 223.5,\n",
              "    'date': 1641354300,\n",
              "    'formatted_date': '2022-01-05',\n",
              "    'high': 226.5500030517578,\n",
              "    'low': 223.0,\n",
              "    'open': 226.39999389648438,\n",
              "    'volume': 17271276},\n",
              "   {'adjclose': 228.4499969482422,\n",
              "    'close': 228.4499969482422,\n",
              "    'date': 1641440700,\n",
              "    'formatted_date': '2022-01-06',\n",
              "    'high': 229.8000030517578,\n",
              "    'low': 219.5,\n",
              "    'open': 221.4499969482422,\n",
              "    'volume': 27537005},\n",
              "   {'adjclose': 229.8000030517578,\n",
              "    'close': 229.8000030517578,\n",
              "    'date': 1641527100,\n",
              "    'formatted_date': '2022-01-07',\n",
              "    'high': 232.85000610351562,\n",
              "    'low': 227.10000610351562,\n",
              "    'open': 230.3000030517578,\n",
              "    'volume': 34595209},\n",
              "   {'adjclose': 231.75,\n",
              "    'close': 231.75,\n",
              "    'date': 1641786300,\n",
              "    'formatted_date': '2022-01-10',\n",
              "    'high': 233.4499969482422,\n",
              "    'low': 230.39999389648438,\n",
              "    'open': 230.9499969482422,\n",
              "    'volume': 22061859},\n",
              "   {'adjclose': 233.10000610351562,\n",
              "    'close': 233.10000610351562,\n",
              "    'date': 1641872700,\n",
              "    'formatted_date': '2022-01-11',\n",
              "    'high': 236.6999969482422,\n",
              "    'low': 231.8000030517578,\n",
              "    'open': 233.0,\n",
              "    'volume': 25489182},\n",
              "   {'adjclose': 237.75,\n",
              "    'close': 237.75,\n",
              "    'date': 1641959100,\n",
              "    'formatted_date': '2022-01-12',\n",
              "    'high': 239.64999389648438,\n",
              "    'low': 234.5,\n",
              "    'open': 234.89999389648438,\n",
              "    'volume': 32665403},\n",
              "   {'adjclose': 245.3000030517578,\n",
              "    'close': 245.3000030517578,\n",
              "    'date': 1642045500,\n",
              "    'formatted_date': '2022-01-13',\n",
              "    'high': 246.6999969482422,\n",
              "    'low': 236.5,\n",
              "    'open': 239.0,\n",
              "    'volume': 50250827},\n",
              "   {'adjclose': 244.39999389648438,\n",
              "    'close': 244.39999389648438,\n",
              "    'date': 1642131900,\n",
              "    'formatted_date': '2022-01-14',\n",
              "    'high': 248.5,\n",
              "    'low': 242.5,\n",
              "    'open': 243.6999969482422,\n",
              "    'volume': 36940487}],\n",
              "  'timeZone': {'gmtOffset': 19800}}}"
            ]
          },
          "metadata": {},
          "execution_count": 78
        }
      ]
    },
    {
      "cell_type": "code",
      "source": [
        ""
      ],
      "metadata": {
        "id": "3VXUTHfd_l42"
      },
      "execution_count": null,
      "outputs": []
    },
    {
      "cell_type": "code",
      "source": [
        "import requests\n",
        "\n",
        "# replace the \"demo\" apikey below with your own key from https://www.alphavantage.co/support/#api-key\n",
        "url = 'https://www.alphavantage.co/query?function=TIME_SERIES_INTRADAY&symbol=IBM&interval=5min&apikey=demo'\n",
        "r = requests.get(url)\n",
        "data = r.json()\n",
        "\n",
        "print(data)"
      ],
      "metadata": {
        "colab": {
          "base_uri": "https://localhost:8080/"
        },
        "id": "Ypueq3lWAIpx",
        "outputId": "70870e8a-d693-4531-8f71-da85b7fb9c83"
      },
      "execution_count": 1,
      "outputs": [
        {
          "output_type": "stream",
          "name": "stdout",
          "text": [
            "{'Meta Data': {'1. Information': 'Intraday (5min) open, high, low, close prices and volume', '2. Symbol': 'IBM', '3. Last Refreshed': '2022-01-14 19:55:00', '4. Interval': '5min', '5. Output Size': 'Compact', '6. Time Zone': 'US/Eastern'}, 'Time Series (5min)': {'2022-01-14 19:55:00': {'1. open': '134.2200', '2. high': '134.2200', '3. low': '134.2200', '4. close': '134.2200', '5. volume': '470'}, '2022-01-14 19:30:00': {'1. open': '134.2200', '2. high': '134.2201', '3. low': '134.2200', '4. close': '134.2201', '5. volume': '322'}, '2022-01-14 18:50:00': {'1. open': '134.2201', '2. high': '134.2201', '3. low': '134.2201', '4. close': '134.2201', '5. volume': '127'}, '2022-01-14 16:55:00': {'1. open': '134.2100', '2. high': '134.2100', '3. low': '133.9400', '4. close': '133.9400', '5. volume': '1162'}, '2022-01-14 16:20:00': {'1. open': '134.2100', '2. high': '134.2100', '3. low': '134.2100', '4. close': '134.2100', '5. volume': '250'}, '2022-01-14 16:15:00': {'1. open': '134.2100', '2. high': '134.2100', '3. low': '134.2100', '4. close': '134.2100', '5. volume': '2775'}, '2022-01-14 16:05:00': {'1. open': '134.2100', '2. high': '134.2100', '3. low': '134.2100', '4. close': '134.2100', '5. volume': '64339'}, '2022-01-14 16:00:00': {'1. open': '134.3000', '2. high': '134.3300', '3. low': '134.1200', '4. close': '134.2100', '5. volume': '251836'}, '2022-01-14 15:55:00': {'1. open': '134.2300', '2. high': '134.3700', '3. low': '134.1200', '4. close': '134.2850', '5. volume': '121788'}, '2022-01-14 15:50:00': {'1. open': '134.2200', '2. high': '134.2600', '3. low': '134.0500', '4. close': '134.2100', '5. volume': '95087'}, '2022-01-14 15:45:00': {'1. open': '134.1100', '2. high': '134.2400', '3. low': '134.0300', '4. close': '134.2200', '5. volume': '80831'}, '2022-01-14 15:40:00': {'1. open': '133.9700', '2. high': '134.1350', '3. low': '133.9300', '4. close': '134.1000', '5. volume': '51602'}, '2022-01-14 15:35:00': {'1. open': '133.9400', '2. high': '134.0040', '3. low': '133.8700', '4. close': '133.9500', '5. volume': '55552'}, '2022-01-14 15:30:00': {'1. open': '134.2800', '2. high': '134.2800', '3. low': '133.8900', '4. close': '133.9300', '5. volume': '50446'}, '2022-01-14 15:25:00': {'1. open': '134.2400', '2. high': '134.3600', '3. low': '134.2400', '4. close': '134.2850', '5. volume': '29725'}, '2022-01-14 15:20:00': {'1. open': '134.1200', '2. high': '134.2600', '3. low': '134.0700', '4. close': '134.2200', '5. volume': '28034'}, '2022-01-14 15:15:00': {'1. open': '134.0100', '2. high': '134.2000', '3. low': '133.9700', '4. close': '134.1040', '5. volume': '40537'}, '2022-01-14 15:10:00': {'1. open': '134.1100', '2. high': '134.1100', '3. low': '133.9101', '4. close': '133.9800', '5. volume': '22380'}, '2022-01-14 15:05:00': {'1. open': '133.9800', '2. high': '134.1500', '3. low': '133.9100', '4. close': '134.1000', '5. volume': '42618'}, '2022-01-14 15:00:00': {'1. open': '133.9462', '2. high': '134.0500', '3. low': '133.9400', '4. close': '133.9800', '5. volume': '34211'}, '2022-01-14 14:55:00': {'1. open': '133.7700', '2. high': '133.9834', '3. low': '133.7550', '4. close': '133.9338', '5. volume': '24041'}, '2022-01-14 14:50:00': {'1. open': '133.7000', '2. high': '133.7900', '3. low': '133.6300', '4. close': '133.7900', '5. volume': '32967'}, '2022-01-14 14:45:00': {'1. open': '133.8300', '2. high': '133.8400', '3. low': '133.6700', '4. close': '133.6800', '5. volume': '28436'}, '2022-01-14 14:40:00': {'1. open': '133.8000', '2. high': '133.9200', '3. low': '133.7900', '4. close': '133.8400', '5. volume': '79570'}, '2022-01-14 14:35:00': {'1. open': '133.7000', '2. high': '133.8600', '3. low': '133.6770', '4. close': '133.8000', '5. volume': '67051'}, '2022-01-14 14:30:00': {'1. open': '133.9250', '2. high': '133.9400', '3. low': '133.6650', '4. close': '133.6800', '5. volume': '42573'}, '2022-01-14 14:25:00': {'1. open': '134.0250', '2. high': '134.0250', '3. low': '133.9100', '4. close': '133.9400', '5. volume': '33105'}, '2022-01-14 14:20:00': {'1. open': '134.0200', '2. high': '134.0750', '3. low': '133.9500', '4. close': '134.0400', '5. volume': '53243'}, '2022-01-14 14:15:00': {'1. open': '134.1000', '2. high': '134.1100', '3. low': '133.9100', '4. close': '134.0000', '5. volume': '32633'}, '2022-01-14 14:10:00': {'1. open': '134.0400', '2. high': '134.1400', '3. low': '134.0000', '4. close': '134.1000', '5. volume': '41364'}, '2022-01-14 14:05:00': {'1. open': '133.8100', '2. high': '134.1500', '3. low': '133.7850', '4. close': '134.0400', '5. volume': '35064'}, '2022-01-14 14:00:00': {'1. open': '133.7400', '2. high': '133.9400', '3. low': '133.6900', '4. close': '133.8000', '5. volume': '56404'}, '2022-01-14 13:55:00': {'1. open': '133.8550', '2. high': '133.8757', '3. low': '133.7200', '4. close': '133.7500', '5. volume': '25722'}, '2022-01-14 13:50:00': {'1. open': '133.9800', '2. high': '134.0000', '3. low': '133.7801', '4. close': '133.8640', '5. volume': '27958'}, '2022-01-14 13:45:00': {'1. open': '133.8770', '2. high': '134.0000', '3. low': '133.7300', '4. close': '134.0000', '5. volume': '28616'}, '2022-01-14 13:40:00': {'1. open': '133.9350', '2. high': '133.9500', '3. low': '133.8100', '4. close': '133.8800', '5. volume': '24801'}, '2022-01-14 13:35:00': {'1. open': '133.9950', '2. high': '134.1000', '3. low': '133.8700', '4. close': '133.9500', '5. volume': '26728'}, '2022-01-14 13:30:00': {'1. open': '133.7700', '2. high': '134.0400', '3. low': '133.7700', '4. close': '134.0000', '5. volume': '34514'}, '2022-01-14 13:25:00': {'1. open': '133.7000', '2. high': '133.9900', '3. low': '133.6800', '4. close': '133.7800', '5. volume': '31849'}, '2022-01-14 13:20:00': {'1. open': '133.6900', '2. high': '133.7800', '3. low': '133.6400', '4. close': '133.7050', '5. volume': '44223'}, '2022-01-14 13:15:00': {'1. open': '133.5000', '2. high': '133.7200', '3. low': '133.3000', '4. close': '133.7000', '5. volume': '67875'}, '2022-01-14 13:10:00': {'1. open': '133.7700', '2. high': '133.8460', '3. low': '133.4800', '4. close': '133.5200', '5. volume': '56726'}, '2022-01-14 13:05:00': {'1. open': '133.9400', '2. high': '133.9900', '3. low': '133.7000', '4. close': '133.7800', '5. volume': '67563'}, '2022-01-14 13:00:00': {'1. open': '133.7400', '2. high': '134.0000', '3. low': '133.5701', '4. close': '133.9550', '5. volume': '99283'}, '2022-01-14 12:55:00': {'1. open': '133.6000', '2. high': '133.7100', '3. low': '133.5400', '4. close': '133.7100', '5. volume': '64661'}, '2022-01-14 12:50:00': {'1. open': '133.7400', '2. high': '133.9190', '3. low': '133.5800', '4. close': '133.6100', '5. volume': '40028'}, '2022-01-14 12:45:00': {'1. open': '133.9600', '2. high': '133.9600', '3. low': '133.7300', '4. close': '133.7500', '5. volume': '41046'}, '2022-01-14 12:40:00': {'1. open': '134.0300', '2. high': '134.1700', '3. low': '133.9400', '4. close': '133.9600', '5. volume': '82040'}, '2022-01-14 12:35:00': {'1. open': '133.9600', '2. high': '134.1400', '3. low': '133.8700', '4. close': '133.9900', '5. volume': '138540'}, '2022-01-14 12:30:00': {'1. open': '133.9300', '2. high': '134.0200', '3. low': '133.8800', '4. close': '133.9600', '5. volume': '91575'}, '2022-01-14 12:25:00': {'1. open': '134.4300', '2. high': '134.4300', '3. low': '133.8800', '4. close': '133.9300', '5. volume': '53935'}, '2022-01-14 12:20:00': {'1. open': '134.6700', '2. high': '134.6939', '3. low': '134.3700', '4. close': '134.4300', '5. volume': '105697'}, '2022-01-14 12:15:00': {'1. open': '134.6800', '2. high': '134.8400', '3. low': '134.6400', '4. close': '134.6700', '5. volume': '44088'}, '2022-01-14 12:10:00': {'1. open': '134.7234', '2. high': '134.8198', '3. low': '134.6310', '4. close': '134.7100', '5. volume': '42485'}, '2022-01-14 12:05:00': {'1. open': '134.8900', '2. high': '134.9000', '3. low': '134.7093', '4. close': '134.7200', '5. volume': '53099'}, '2022-01-14 12:00:00': {'1. open': '135.0373', '2. high': '135.0600', '3. low': '134.8800', '4. close': '134.8900', '5. volume': '72631'}, '2022-01-14 11:55:00': {'1. open': '135.0400', '2. high': '135.1400', '3. low': '135.0000', '4. close': '135.0150', '5. volume': '34524'}, '2022-01-14 11:50:00': {'1. open': '134.9350', '2. high': '135.1350', '3. low': '134.9000', '4. close': '135.0300', '5. volume': '41957'}, '2022-01-14 11:45:00': {'1. open': '134.6300', '2. high': '134.9800', '3. low': '134.5581', '4. close': '134.9100', '5. volume': '29257'}, '2022-01-14 11:40:00': {'1. open': '134.5300', '2. high': '134.6800', '3. low': '134.4462', '4. close': '134.6250', '5. volume': '27196'}, '2022-01-14 11:35:00': {'1. open': '134.6500', '2. high': '134.6900', '3. low': '134.4900', '4. close': '134.5300', '5. volume': '45855'}, '2022-01-14 11:30:00': {'1. open': '134.7700', '2. high': '134.8700', '3. low': '134.6100', '4. close': '134.6100', '5. volume': '27289'}, '2022-01-14 11:25:00': {'1. open': '134.6650', '2. high': '134.8800', '3. low': '134.6500', '4. close': '134.8204', '5. volume': '34765'}, '2022-01-14 11:20:00': {'1. open': '134.6600', '2. high': '134.7250', '3. low': '134.4610', '4. close': '134.6600', '5. volume': '45402'}, '2022-01-14 11:15:00': {'1. open': '135.0000', '2. high': '135.0000', '3. low': '134.5841', '4. close': '134.6800', '5. volume': '41970'}, '2022-01-14 11:10:00': {'1. open': '134.7000', '2. high': '135.0400', '3. low': '134.6600', '4. close': '135.0109', '5. volume': '43075'}, '2022-01-14 11:05:00': {'1. open': '134.8500', '2. high': '135.0200', '3. low': '134.5300', '4. close': '134.6750', '5. volume': '52539'}, '2022-01-14 11:00:00': {'1. open': '134.4700', '2. high': '134.8900', '3. low': '134.1400', '4. close': '134.8511', '5. volume': '161724'}, '2022-01-14 10:55:00': {'1. open': '134.3200', '2. high': '134.4900', '3. low': '134.2800', '4. close': '134.4750', '5. volume': '27589'}, '2022-01-14 10:50:00': {'1. open': '134.2650', '2. high': '134.5500', '3. low': '134.2650', '4. close': '134.3600', '5. volume': '39140'}, '2022-01-14 10:45:00': {'1. open': '134.2400', '2. high': '134.3700', '3. low': '134.1185', '4. close': '134.2500', '5. volume': '34270'}, '2022-01-14 10:40:00': {'1. open': '134.2000', '2. high': '134.3500', '3. low': '134.1100', '4. close': '134.2004', '5. volume': '31067'}, '2022-01-14 10:35:00': {'1. open': '134.2400', '2. high': '134.2400', '3. low': '133.9500', '4. close': '134.2100', '5. volume': '45481'}, '2022-01-14 10:30:00': {'1. open': '133.6600', '2. high': '134.2600', '3. low': '133.5666', '4. close': '134.2262', '5. volume': '51421'}, '2022-01-14 10:25:00': {'1. open': '133.8800', '2. high': '133.9600', '3. low': '133.6400', '4. close': '133.6850', '5. volume': '38980'}, '2022-01-14 10:20:00': {'1. open': '134.0100', '2. high': '134.1050', '3. low': '133.6800', '4. close': '133.8600', '5. volume': '44984'}, '2022-01-14 10:15:00': {'1. open': '133.7500', '2. high': '134.2500', '3. low': '133.5700', '4. close': '134.0100', '5. volume': '64116'}, '2022-01-14 10:10:00': {'1. open': '133.9000', '2. high': '134.0400', '3. low': '133.6100', '4. close': '133.8000', '5. volume': '58863'}, '2022-01-14 10:05:00': {'1. open': '133.7300', '2. high': '133.9900', '3. low': '133.5400', '4. close': '133.9000', '5. volume': '116479'}, '2022-01-14 10:00:00': {'1. open': '133.4600', '2. high': '133.7500', '3. low': '133.4000', '4. close': '133.7100', '5. volume': '91514'}, '2022-01-14 09:55:00': {'1. open': '133.6900', '2. high': '134.5500', '3. low': '133.3801', '4. close': '133.5200', '5. volume': '85262'}, '2022-01-14 09:50:00': {'1. open': '134.0450', '2. high': '134.1700', '3. low': '133.6600', '4. close': '133.7100', '5. volume': '90621'}, '2022-01-14 09:45:00': {'1. open': '133.9500', '2. high': '134.0400', '3. low': '133.5300', '4. close': '134.0400', '5. volume': '70559'}, '2022-01-14 09:40:00': {'1. open': '133.9800', '2. high': '134.1500', '3. low': '133.7100', '4. close': '133.9500', '5. volume': '86097'}, '2022-01-14 09:35:00': {'1. open': '134.5500', '2. high': '134.5800', '3. low': '133.7100', '4. close': '133.9300', '5. volume': '184224'}, '2022-01-14 09:30:00': {'1. open': '134.0000', '2. high': '134.2500', '3. low': '134.0000', '4. close': '134.2000', '5. volume': '3885'}, '2022-01-14 09:20:00': {'1. open': '134.3000', '2. high': '134.3000', '3. low': '134.3000', '4. close': '134.3000', '5. volume': '406'}, '2022-01-14 09:15:00': {'1. open': '134.2000', '2. high': '134.2000', '3. low': '133.8700', '4. close': '133.8700', '5. volume': '2722'}, '2022-01-14 09:10:00': {'1. open': '134.2000', '2. high': '134.2000', '3. low': '134.2000', '4. close': '134.2000', '5. volume': '301'}, '2022-01-14 09:05:00': {'1. open': '134.2000', '2. high': '134.2000', '3. low': '134.0100', '4. close': '134.0100', '5. volume': '598'}, '2022-01-14 08:55:00': {'1. open': '134.2700', '2. high': '134.2701', '3. low': '134.2700', '4. close': '134.2701', '5. volume': '900'}, '2022-01-14 08:50:00': {'1. open': '134.5700', '2. high': '134.5700', '3. low': '134.5700', '4. close': '134.5700', '5. volume': '147'}, '2022-01-14 08:45:00': {'1. open': '134.2500', '2. high': '134.2500', '3. low': '134.2500', '4. close': '134.2500', '5. volume': '428'}, '2022-01-14 08:35:00': {'1. open': '134.2500', '2. high': '134.2500', '3. low': '134.1600', '4. close': '134.1600', '5. volume': '450'}, '2022-01-14 08:30:00': {'1. open': '134.5400', '2. high': '134.5400', '3. low': '134.5400', '4. close': '134.5400', '5. volume': '237'}, '2022-01-14 08:20:00': {'1. open': '134.2000', '2. high': '134.2000', '3. low': '134.2000', '4. close': '134.2000', '5. volume': '400'}, '2022-01-14 08:05:00': {'1. open': '134.6800', '2. high': '134.6800', '3. low': '134.6800', '4. close': '134.6800', '5. volume': '244'}, '2022-01-14 08:00:00': {'1. open': '134.5100', '2. high': '134.5100', '3. low': '134.5000', '4. close': '134.5000', '5. volume': '250'}, '2022-01-14 07:50:00': {'1. open': '134.1300', '2. high': '134.1300', '3. low': '134.1300', '4. close': '134.1300', '5. volume': '511'}, '2022-01-14 07:15:00': {'1. open': '134.5500', '2. high': '134.5500', '3. low': '134.5500', '4. close': '134.5500', '5. volume': '106'}}}\n"
          ]
        }
      ]
    },
    {
      "cell_type": "code",
      "source": [
        "!pip install alpha_vantage"
      ],
      "metadata": {
        "colab": {
          "base_uri": "https://localhost:8080/"
        },
        "id": "-0trIXEcAMim",
        "outputId": "8c6f4439-1ba6-4ad7-8eb9-96b5e5e6175a"
      },
      "execution_count": 2,
      "outputs": [
        {
          "output_type": "stream",
          "name": "stdout",
          "text": [
            "Collecting alpha_vantage\n",
            "  Downloading alpha_vantage-2.3.1-py3-none-any.whl (31 kB)\n",
            "Collecting aiohttp\n",
            "  Downloading aiohttp-3.8.1-cp37-cp37m-manylinux_2_5_x86_64.manylinux1_x86_64.manylinux_2_12_x86_64.manylinux2010_x86_64.whl (1.1 MB)\n",
            "\u001b[K     |████████████████████████████████| 1.1 MB 8.1 MB/s \n",
            "\u001b[?25hRequirement already satisfied: requests in /usr/local/lib/python3.7/dist-packages (from alpha_vantage) (2.23.0)\n",
            "Requirement already satisfied: attrs>=17.3.0 in /usr/local/lib/python3.7/dist-packages (from aiohttp->alpha_vantage) (21.4.0)\n",
            "Collecting aiosignal>=1.1.2\n",
            "  Downloading aiosignal-1.2.0-py3-none-any.whl (8.2 kB)\n",
            "Collecting multidict<7.0,>=4.5\n",
            "  Downloading multidict-5.2.0-cp37-cp37m-manylinux_2_5_x86_64.manylinux1_x86_64.manylinux_2_12_x86_64.manylinux2010_x86_64.whl (160 kB)\n",
            "\u001b[K     |████████████████████████████████| 160 kB 38.2 MB/s \n",
            "\u001b[?25hCollecting asynctest==0.13.0\n",
            "  Downloading asynctest-0.13.0-py3-none-any.whl (26 kB)\n",
            "Collecting frozenlist>=1.1.1\n",
            "  Downloading frozenlist-1.2.0-cp37-cp37m-manylinux_2_5_x86_64.manylinux1_x86_64.manylinux_2_12_x86_64.manylinux2010_x86_64.whl (192 kB)\n",
            "\u001b[K     |████████████████████████████████| 192 kB 67.1 MB/s \n",
            "\u001b[?25hCollecting async-timeout<5.0,>=4.0.0a3\n",
            "  Downloading async_timeout-4.0.2-py3-none-any.whl (5.8 kB)\n",
            "Requirement already satisfied: typing-extensions>=3.7.4 in /usr/local/lib/python3.7/dist-packages (from aiohttp->alpha_vantage) (3.10.0.2)\n",
            "Collecting yarl<2.0,>=1.0\n",
            "  Downloading yarl-1.7.2-cp37-cp37m-manylinux_2_5_x86_64.manylinux1_x86_64.manylinux_2_12_x86_64.manylinux2010_x86_64.whl (271 kB)\n",
            "\u001b[K     |████████████████████████████████| 271 kB 59.9 MB/s \n",
            "\u001b[?25hRequirement already satisfied: charset-normalizer<3.0,>=2.0 in /usr/local/lib/python3.7/dist-packages (from aiohttp->alpha_vantage) (2.0.10)\n",
            "Requirement already satisfied: idna>=2.0 in /usr/local/lib/python3.7/dist-packages (from yarl<2.0,>=1.0->aiohttp->alpha_vantage) (2.10)\n",
            "Requirement already satisfied: certifi>=2017.4.17 in /usr/local/lib/python3.7/dist-packages (from requests->alpha_vantage) (2021.10.8)\n",
            "Requirement already satisfied: urllib3!=1.25.0,!=1.25.1,<1.26,>=1.21.1 in /usr/local/lib/python3.7/dist-packages (from requests->alpha_vantage) (1.24.3)\n",
            "Requirement already satisfied: chardet<4,>=3.0.2 in /usr/local/lib/python3.7/dist-packages (from requests->alpha_vantage) (3.0.4)\n",
            "Installing collected packages: multidict, frozenlist, yarl, asynctest, async-timeout, aiosignal, aiohttp, alpha-vantage\n",
            "Successfully installed aiohttp-3.8.1 aiosignal-1.2.0 alpha-vantage-2.3.1 async-timeout-4.0.2 asynctest-0.13.0 frozenlist-1.2.0 multidict-5.2.0 yarl-1.7.2\n"
          ]
        }
      ]
    },
    {
      "cell_type": "code",
      "source": [
        "from alpha_vantage.timeseries import TimeSeries"
      ],
      "metadata": {
        "id": "MOejZqFPBndM"
      },
      "execution_count": 3,
      "outputs": []
    },
    {
      "cell_type": "code",
      "source": [
        "ts = TimeSeries(key='MJ621P8V0G9ISM54')"
      ],
      "metadata": {
        "id": "LRr4zKZkB50V"
      },
      "execution_count": 4,
      "outputs": []
    },
    {
      "cell_type": "code",
      "source": [
        "ts.get_intraday('GOOGL')"
      ],
      "metadata": {
        "colab": {
          "base_uri": "https://localhost:8080/"
        },
        "id": "hdku9Mx-CHSo",
        "outputId": "2a765cad-9df3-46bc-dbb9-c2007cb18745"
      },
      "execution_count": 5,
      "outputs": [
        {
          "output_type": "execute_result",
          "data": {
            "text/plain": [
              "({'2022-01-12 08:45:00': {'1. open': '2815.0000',\n",
              "   '2. high': '2816.0000',\n",
              "   '3. low': '2810.0000',\n",
              "   '4. close': '2816.0000',\n",
              "   '5. volume': '1377'},\n",
              "  '2022-01-12 09:00:00': {'1. open': '2817.3589',\n",
              "   '2. high': '2819.0000',\n",
              "   '3. low': '2817.3589',\n",
              "   '4. close': '2819.0000',\n",
              "   '5. volume': '471'},\n",
              "  '2022-01-12 09:30:00': {'1. open': '2822.0000',\n",
              "   '2. high': '2822.0900',\n",
              "   '3. low': '2822.0000',\n",
              "   '4. close': '2822.0900',\n",
              "   '5. volume': '1737'},\n",
              "  '2022-01-12 09:45:00': {'1. open': '2823.0000',\n",
              "   '2. high': '2835.1200',\n",
              "   '3. low': '2813.8900',\n",
              "   '4. close': '2821.4800',\n",
              "   '5. volume': '148468'},\n",
              "  '2022-01-12 10:00:00': {'1. open': '2823.3050',\n",
              "   '2. high': '2846.6600',\n",
              "   '3. low': '2823.3050',\n",
              "   '4. close': '2844.9000',\n",
              "   '5. volume': '81162'},\n",
              "  '2022-01-12 10:15:00': {'1. open': '2845.4850',\n",
              "   '2. high': '2852.1550',\n",
              "   '3. low': '2834.4850',\n",
              "   '4. close': '2848.6050',\n",
              "   '5. volume': '96259'},\n",
              "  '2022-01-12 10:30:00': {'1. open': '2847.7500',\n",
              "   '2. high': '2848.5400',\n",
              "   '3. low': '2842.8200',\n",
              "   '4. close': '2845.6401',\n",
              "   '5. volume': '36918'},\n",
              "  '2022-01-12 10:45:00': {'1. open': '2844.1200',\n",
              "   '2. high': '2844.8900',\n",
              "   '3. low': '2825.1650',\n",
              "   '4. close': '2829.0500',\n",
              "   '5. volume': '67494'},\n",
              "  '2022-01-12 11:00:00': {'1. open': '2829.1650',\n",
              "   '2. high': '2835.1499',\n",
              "   '3. low': '2824.2400',\n",
              "   '4. close': '2829.1500',\n",
              "   '5. volume': '57374'},\n",
              "  '2022-01-12 11:15:00': {'1. open': '2830.4800',\n",
              "   '2. high': '2835.9082',\n",
              "   '3. low': '2822.0000',\n",
              "   '4. close': '2828.0400',\n",
              "   '5. volume': '58364'},\n",
              "  '2022-01-12 11:30:00': {'1. open': '2829.2700',\n",
              "   '2. high': '2837.7500',\n",
              "   '3. low': '2826.6200',\n",
              "   '4. close': '2835.2200',\n",
              "   '5. volume': '27943'},\n",
              "  '2022-01-12 11:45:00': {'1. open': '2836.4700',\n",
              "   '2. high': '2845.3600',\n",
              "   '3. low': '2836.4700',\n",
              "   '4. close': '2839.0500',\n",
              "   '5. volume': '25220'},\n",
              "  '2022-01-12 12:00:00': {'1. open': '2838.3700',\n",
              "   '2. high': '2844.1000',\n",
              "   '3. low': '2837.0000',\n",
              "   '4. close': '2838.3250',\n",
              "   '5. volume': '15538'},\n",
              "  '2022-01-12 12:15:00': {'1. open': '2838.5100',\n",
              "   '2. high': '2838.6100',\n",
              "   '3. low': '2827.0400',\n",
              "   '4. close': '2829.0400',\n",
              "   '5. volume': '20061'},\n",
              "  '2022-01-12 12:30:00': {'1. open': '2830.5100',\n",
              "   '2. high': '2836.8900',\n",
              "   '3. low': '2828.8150',\n",
              "   '4. close': '2833.0500',\n",
              "   '5. volume': '20056'},\n",
              "  '2022-01-12 12:45:00': {'1. open': '2832.3300',\n",
              "   '2. high': '2841.5299',\n",
              "   '3. low': '2832.3300',\n",
              "   '4. close': '2837.2400',\n",
              "   '5. volume': '16935'},\n",
              "  '2022-01-12 13:00:00': {'1. open': '2836.6400',\n",
              "   '2. high': '2842.2100',\n",
              "   '3. low': '2834.3700',\n",
              "   '4. close': '2840.5100',\n",
              "   '5. volume': '11917'},\n",
              "  '2022-01-12 13:15:00': {'1. open': '2839.9600',\n",
              "   '2. high': '2839.9600',\n",
              "   '3. low': '2827.7600',\n",
              "   '4. close': '2830.6300',\n",
              "   '5. volume': '16804'},\n",
              "  '2022-01-12 13:30:00': {'1. open': '2830.0000',\n",
              "   '2. high': '2832.0100',\n",
              "   '3. low': '2829.1300',\n",
              "   '4. close': '2829.7000',\n",
              "   '5. volume': '21036'},\n",
              "  '2022-01-12 13:45:00': {'1. open': '2829.8000',\n",
              "   '2. high': '2835.3974',\n",
              "   '3. low': '2829.8000',\n",
              "   '4. close': '2832.4000',\n",
              "   '5. volume': '10760'},\n",
              "  '2022-01-12 14:00:00': {'1. open': '2832.4050',\n",
              "   '2. high': '2833.5000',\n",
              "   '3. low': '2827.3200',\n",
              "   '4. close': '2831.3600',\n",
              "   '5. volume': '10429'},\n",
              "  '2022-01-12 14:15:00': {'1. open': '2830.0100',\n",
              "   '2. high': '2832.9102',\n",
              "   '3. low': '2826.8400',\n",
              "   '4. close': '2832.2300',\n",
              "   '5. volume': '15372'},\n",
              "  '2022-01-12 14:30:00': {'1. open': '2832.9100',\n",
              "   '2. high': '2836.5600',\n",
              "   '3. low': '2831.8100',\n",
              "   '4. close': '2834.6150',\n",
              "   '5. volume': '15086'},\n",
              "  '2022-01-12 14:45:00': {'1. open': '2834.9550',\n",
              "   '2. high': '2835.4700',\n",
              "   '3. low': '2823.7050',\n",
              "   '4. close': '2824.5200',\n",
              "   '5. volume': '31320'},\n",
              "  '2022-01-12 15:00:00': {'1. open': '2825.2200',\n",
              "   '2. high': '2831.3100',\n",
              "   '3. low': '2825.0700',\n",
              "   '4. close': '2830.5699',\n",
              "   '5. volume': '14970'},\n",
              "  '2022-01-12 15:15:00': {'1. open': '2831.3000',\n",
              "   '2. high': '2831.9500',\n",
              "   '3. low': '2823.7500',\n",
              "   '4. close': '2828.0200',\n",
              "   '5. volume': '22296'},\n",
              "  '2022-01-12 15:30:00': {'1. open': '2829.0400',\n",
              "   '2. high': '2829.0400',\n",
              "   '3. low': '2824.0400',\n",
              "   '4. close': '2825.1700',\n",
              "   '5. volume': '18228'},\n",
              "  '2022-01-12 15:45:00': {'1. open': '2824.9900',\n",
              "   '2. high': '2828.5500',\n",
              "   '3. low': '2823.6950',\n",
              "   '4. close': '2828.4300',\n",
              "   '5. volume': '38669'},\n",
              "  '2022-01-12 16:00:00': {'1. open': '2829.6400',\n",
              "   '2. high': '2833.4900',\n",
              "   '3. low': '2824.5500',\n",
              "   '4. close': '2828.6100',\n",
              "   '5. volume': '112564'},\n",
              "  '2022-01-12 16:15:00': {'1. open': '2828.6100',\n",
              "   '2. high': '2828.6100',\n",
              "   '3. low': '2828.6100',\n",
              "   '4. close': '2828.6100',\n",
              "   '5. volume': '69172'},\n",
              "  '2022-01-12 16:45:00': {'1. open': '2829.2000',\n",
              "   '2. high': '2829.2000',\n",
              "   '3. low': '2829.2000',\n",
              "   '4. close': '2829.2000',\n",
              "   '5. volume': '299'},\n",
              "  '2022-01-12 17:00:00': {'1. open': '2829.5000',\n",
              "   '2. high': '2829.5000',\n",
              "   '3. low': '2829.5000',\n",
              "   '4. close': '2829.5000',\n",
              "   '5. volume': '627'},\n",
              "  '2022-01-12 17:30:00': {'1. open': '2828.0400',\n",
              "   '2. high': '2828.0400',\n",
              "   '3. low': '2828.0400',\n",
              "   '4. close': '2828.0400',\n",
              "   '5. volume': '305'},\n",
              "  '2022-01-12 18:45:00': {'1. open': '2828.0000',\n",
              "   '2. high': '2828.0000',\n",
              "   '3. low': '2828.0000',\n",
              "   '4. close': '2828.0000',\n",
              "   '5. volume': '101'},\n",
              "  '2022-01-13 09:30:00': {'1. open': '2835.0000',\n",
              "   '2. high': '2835.0000',\n",
              "   '3. low': '2835.0000',\n",
              "   '4. close': '2835.0000',\n",
              "   '5. volume': '107'},\n",
              "  '2022-01-13 09:45:00': {'1. open': '2830.8000',\n",
              "   '2. high': '2851.6600',\n",
              "   '3. low': '2830.8000',\n",
              "   '4. close': '2848.9733',\n",
              "   '5. volume': '63053'},\n",
              "  '2022-01-13 10:00:00': {'1. open': '2847.4850',\n",
              "   '2. high': '2857.0000',\n",
              "   '3. low': '2843.8000',\n",
              "   '4. close': '2853.3350',\n",
              "   '5. volume': '58870'},\n",
              "  '2022-01-13 10:15:00': {'1. open': '2852.7550',\n",
              "   '2. high': '2854.1855',\n",
              "   '3. low': '2834.9700',\n",
              "   '4. close': '2837.9600',\n",
              "   '5. volume': '44094'},\n",
              "  '2022-01-13 10:30:00': {'1. open': '2838.1100',\n",
              "   '2. high': '2841.9300',\n",
              "   '3. low': '2828.3500',\n",
              "   '4. close': '2841.9300',\n",
              "   '5. volume': '59767'},\n",
              "  '2022-01-13 10:45:00': {'1. open': '2841.6300',\n",
              "   '2. high': '2844.7450',\n",
              "   '3. low': '2834.0800',\n",
              "   '4. close': '2834.4700',\n",
              "   '5. volume': '44796'},\n",
              "  '2022-01-13 11:00:00': {'1. open': '2832.0000',\n",
              "   '2. high': '2834.2900',\n",
              "   '3. low': '2811.9050',\n",
              "   '4. close': '2828.7700',\n",
              "   '5. volume': '72045'},\n",
              "  '2022-01-13 11:15:00': {'1. open': '2827.4100',\n",
              "   '2. high': '2835.0600',\n",
              "   '3. low': '2825.7100',\n",
              "   '4. close': '2830.5500',\n",
              "   '5. volume': '56723'},\n",
              "  '2022-01-13 11:30:00': {'1. open': '2831.4500',\n",
              "   '2. high': '2840.4100',\n",
              "   '3. low': '2829.1301',\n",
              "   '4. close': '2840.4100',\n",
              "   '5. volume': '40064'},\n",
              "  '2022-01-13 11:45:00': {'1. open': '2838.9400',\n",
              "   '2. high': '2841.5300',\n",
              "   '3. low': '2835.2550',\n",
              "   '4. close': '2836.8500',\n",
              "   '5. volume': '50407'},\n",
              "  '2022-01-13 12:00:00': {'1. open': '2836.8000',\n",
              "   '2. high': '2836.8000',\n",
              "   '3. low': '2828.4900',\n",
              "   '4. close': '2829.6200',\n",
              "   '5. volume': '23367'},\n",
              "  '2022-01-13 12:15:00': {'1. open': '2828.0000',\n",
              "   '2. high': '2829.2900',\n",
              "   '3. low': '2815.7257',\n",
              "   '4. close': '2815.7257',\n",
              "   '5. volume': '27965'},\n",
              "  '2022-01-13 12:30:00': {'1. open': '2816.2500',\n",
              "   '2. high': '2816.2500',\n",
              "   '3. low': '2802.6600',\n",
              "   '4. close': '2804.6400',\n",
              "   '5. volume': '50993'},\n",
              "  '2022-01-13 12:45:00': {'1. open': '2803.5000',\n",
              "   '2. high': '2807.6000',\n",
              "   '3. low': '2796.0000',\n",
              "   '4. close': '2796.7900',\n",
              "   '5. volume': '64322'},\n",
              "  '2022-01-13 13:00:00': {'1. open': '2797.6300',\n",
              "   '2. high': '2802.5200',\n",
              "   '3. low': '2792.4442',\n",
              "   '4. close': '2802.3400',\n",
              "   '5. volume': '35810'},\n",
              "  '2022-01-13 13:15:00': {'1. open': '2799.1500',\n",
              "   '2. high': '2811.2382',\n",
              "   '3. low': '2794.0000',\n",
              "   '4. close': '2803.2900',\n",
              "   '5. volume': '37776'},\n",
              "  '2022-01-13 13:30:00': {'1. open': '2807.1700',\n",
              "   '2. high': '2810.8600',\n",
              "   '3. low': '2800.8350',\n",
              "   '4. close': '2803.4100',\n",
              "   '5. volume': '22717'},\n",
              "  '2022-01-13 13:45:00': {'1. open': '2807.0700',\n",
              "   '2. high': '2807.0700',\n",
              "   '3. low': '2800.7900',\n",
              "   '4. close': '2803.9100',\n",
              "   '5. volume': '18802'},\n",
              "  '2022-01-13 14:00:00': {'1. open': '2803.6600',\n",
              "   '2. high': '2806.9700',\n",
              "   '3. low': '2800.8001',\n",
              "   '4. close': '2806.5350',\n",
              "   '5. volume': '25102'},\n",
              "  '2022-01-13 14:15:00': {'1. open': '2805.2450',\n",
              "   '2. high': '2810.1700',\n",
              "   '3. low': '2803.1300',\n",
              "   '4. close': '2803.2900',\n",
              "   '5. volume': '31371'},\n",
              "  '2022-01-13 14:30:00': {'1. open': '2803.2800',\n",
              "   '2. high': '2803.3600',\n",
              "   '3. low': '2784.3800',\n",
              "   '4. close': '2785.7300',\n",
              "   '5. volume': '51799'},\n",
              "  '2022-01-13 14:45:00': {'1. open': '2785.3300',\n",
              "   '2. high': '2790.9000',\n",
              "   '3. low': '2785.0100',\n",
              "   '4. close': '2790.9000',\n",
              "   '5. volume': '29394'},\n",
              "  '2022-01-13 15:00:00': {'1. open': '2790.0850',\n",
              "   '2. high': '2792.6000',\n",
              "   '3. low': '2782.2700',\n",
              "   '4. close': '2788.0000',\n",
              "   '5. volume': '68890'},\n",
              "  '2022-01-13 15:15:00': {'1. open': '2787.4200',\n",
              "   '2. high': '2787.4400',\n",
              "   '3. low': '2776.8800',\n",
              "   '4. close': '2780.1011',\n",
              "   '5. volume': '41278'},\n",
              "  '2022-01-13 15:30:00': {'1. open': '2779.2350',\n",
              "   '2. high': '2786.6500',\n",
              "   '3. low': '2779.0250',\n",
              "   '4. close': '2786.4500',\n",
              "   '5. volume': '43094'},\n",
              "  '2022-01-13 15:45:00': {'1. open': '2787.1500',\n",
              "   '2. high': '2789.3500',\n",
              "   '3. low': '2779.0800',\n",
              "   '4. close': '2780.4300',\n",
              "   '5. volume': '51543'},\n",
              "  '2022-01-13 16:00:00': {'1. open': '2779.7900',\n",
              "   '2. high': '2780.0700',\n",
              "   '3. low': '2768.1800',\n",
              "   '4. close': '2773.0600',\n",
              "   '5. volume': '210469'},\n",
              "  '2022-01-13 16:15:00': {'1. open': '2771.7400',\n",
              "   '2. high': '2772.3000',\n",
              "   '3. low': '2768.2400',\n",
              "   '4. close': '2770.3600',\n",
              "   '5. volume': '24494'},\n",
              "  '2022-01-13 16:30:00': {'1. open': '2771.7300',\n",
              "   '2. high': '2771.7400',\n",
              "   '3. low': '2771.7300',\n",
              "   '4. close': '2771.7400',\n",
              "   '5. volume': '684'},\n",
              "  '2022-01-14 08:15:00': {'1. open': '2740.4000',\n",
              "   '2. high': '2740.4000',\n",
              "   '3. low': '2737.5100',\n",
              "   '4. close': '2740.0300',\n",
              "   '5. volume': '1244'},\n",
              "  '2022-01-14 08:30:00': {'1. open': '2750.9900',\n",
              "   '2. high': '2755.0000',\n",
              "   '3. low': '2750.9900',\n",
              "   '4. close': '2755.0000',\n",
              "   '5. volume': '2159'},\n",
              "  '2022-01-14 08:45:00': {'1. open': '2751.0000',\n",
              "   '2. high': '2751.0000',\n",
              "   '3. low': '2748.0000',\n",
              "   '4. close': '2748.0000',\n",
              "   '5. volume': '2421'},\n",
              "  '2022-01-14 09:15:00': {'1. open': '2753.9800',\n",
              "   '2. high': '2753.9800',\n",
              "   '3. low': '2752.0000',\n",
              "   '4. close': '2752.0000',\n",
              "   '5. volume': '1355'},\n",
              "  '2022-01-14 09:30:00': {'1. open': '2753.6800',\n",
              "   '2. high': '2753.6800',\n",
              "   '3. low': '2737.2100',\n",
              "   '4. close': '2740.2300',\n",
              "   '5. volume': '5575'},\n",
              "  '2022-01-14 09:45:00': {'1. open': '2741.5800',\n",
              "   '2. high': '2797.6100',\n",
              "   '3. low': '2739.9700',\n",
              "   '4. close': '2796.1100',\n",
              "   '5. volume': '155057'},\n",
              "  '2022-01-14 10:00:00': {'1. open': '2795.7150',\n",
              "   '2. high': '2814.8400',\n",
              "   '3. low': '2792.3750',\n",
              "   '4. close': '2810.7200',\n",
              "   '5. volume': '109967'},\n",
              "  '2022-01-14 10:15:00': {'1. open': '2811.3300',\n",
              "   '2. high': '2811.9600',\n",
              "   '3. low': '2792.4300',\n",
              "   '4. close': '2795.8200',\n",
              "   '5. volume': '76268'},\n",
              "  '2022-01-14 10:30:00': {'1. open': '2796.0300',\n",
              "   '2. high': '2810.2500',\n",
              "   '3. low': '2795.2050',\n",
              "   '4. close': '2799.4400',\n",
              "   '5. volume': '70790'},\n",
              "  '2022-01-14 10:45:00': {'1. open': '2798.5900',\n",
              "   '2. high': '2801.2900',\n",
              "   '3. low': '2791.0300',\n",
              "   '4. close': '2792.6000',\n",
              "   '5. volume': '55470'},\n",
              "  '2022-01-14 11:00:00': {'1. open': '2793.0000',\n",
              "   '2. high': '2802.7350',\n",
              "   '3. low': '2784.6000',\n",
              "   '4. close': '2790.9700',\n",
              "   '5. volume': '62658'},\n",
              "  '2022-01-14 11:15:00': {'1. open': '2797.4100',\n",
              "   '2. high': '2799.3900',\n",
              "   '3. low': '2775.5017',\n",
              "   '4. close': '2783.0000',\n",
              "   '5. volume': '45391'},\n",
              "  '2022-01-14 11:30:00': {'1. open': '2779.8700',\n",
              "   '2. high': '2788.8300',\n",
              "   '3. low': '2774.9200',\n",
              "   '4. close': '2783.1800',\n",
              "   '5. volume': '31116'},\n",
              "  '2022-01-14 11:45:00': {'1. open': '2787.1100',\n",
              "   '2. high': '2800.8500',\n",
              "   '3. low': '2786.6000',\n",
              "   '4. close': '2798.7900',\n",
              "   '5. volume': '41011'},\n",
              "  '2022-01-14 12:00:00': {'1. open': '2798.7500',\n",
              "   '2. high': '2801.8100',\n",
              "   '3. low': '2796.2200',\n",
              "   '4. close': '2796.7000',\n",
              "   '5. volume': '19882'},\n",
              "  '2022-01-14 12:15:00': {'1. open': '2794.3800',\n",
              "   '2. high': '2800.8000',\n",
              "   '3. low': '2791.7800',\n",
              "   '4. close': '2791.7800',\n",
              "   '5. volume': '26560'},\n",
              "  '2022-01-14 12:30:00': {'1. open': '2790.4200',\n",
              "   '2. high': '2796.4000',\n",
              "   '3. low': '2789.6300',\n",
              "   '4. close': '2794.4250',\n",
              "   '5. volume': '28148'},\n",
              "  '2022-01-14 12:45:00': {'1. open': '2796.2000',\n",
              "   '2. high': '2800.2400',\n",
              "   '3. low': '2791.6300',\n",
              "   '4. close': '2791.9800',\n",
              "   '5. volume': '13324'},\n",
              "  '2022-01-14 13:00:00': {'1. open': '2794.2300',\n",
              "   '2. high': '2794.2300',\n",
              "   '3. low': '2784.5350',\n",
              "   '4. close': '2785.0300',\n",
              "   '5. volume': '22870'},\n",
              "  '2022-01-14 13:15:00': {'1. open': '2785.2400',\n",
              "   '2. high': '2791.5895',\n",
              "   '3. low': '2783.5500',\n",
              "   '4. close': '2787.9000',\n",
              "   '5. volume': '23031'},\n",
              "  '2022-01-14 13:30:00': {'1. open': '2784.5800',\n",
              "   '2. high': '2785.7800',\n",
              "   '3. low': '2770.5700',\n",
              "   '4. close': '2774.9100',\n",
              "   '5. volume': '27166'},\n",
              "  '2022-01-14 13:45:00': {'1. open': '2775.4300',\n",
              "   '2. high': '2780.3000',\n",
              "   '3. low': '2771.4000',\n",
              "   '4. close': '2780.3000',\n",
              "   '5. volume': '37924'},\n",
              "  '2022-01-14 14:00:00': {'1. open': '2780.9800',\n",
              "   '2. high': '2800.7105',\n",
              "   '3. low': '2779.4400',\n",
              "   '4. close': '2799.2800',\n",
              "   '5. volume': '61569'},\n",
              "  '2022-01-14 14:15:00': {'1. open': '2799.0400',\n",
              "   '2. high': '2799.0600',\n",
              "   '3. low': '2791.9800',\n",
              "   '4. close': '2794.0150',\n",
              "   '5. volume': '16590'},\n",
              "  '2022-01-14 14:30:00': {'1. open': '2794.5000',\n",
              "   '2. high': '2794.9900',\n",
              "   '3. low': '2785.1600',\n",
              "   '4. close': '2786.3900',\n",
              "   '5. volume': '21106'},\n",
              "  '2022-01-14 14:45:00': {'1. open': '2785.5000',\n",
              "   '2. high': '2796.0000',\n",
              "   '3. low': '2785.5000',\n",
              "   '4. close': '2787.0100',\n",
              "   '5. volume': '16677'},\n",
              "  '2022-01-14 15:00:00': {'1. open': '2787.0000',\n",
              "   '2. high': '2791.1900',\n",
              "   '3. low': '2783.5700',\n",
              "   '4. close': '2783.5700',\n",
              "   '5. volume': '19529'},\n",
              "  '2022-01-14 15:15:00': {'1. open': '2784.6800',\n",
              "   '2. high': '2790.1800',\n",
              "   '3. low': '2783.2750',\n",
              "   '4. close': '2785.3900',\n",
              "   '5. volume': '25144'},\n",
              "  '2022-01-14 15:30:00': {'1. open': '2785.2800',\n",
              "   '2. high': '2794.1400',\n",
              "   '3. low': '2783.0300',\n",
              "   '4. close': '2788.5200',\n",
              "   '5. volume': '23711'},\n",
              "  '2022-01-14 15:45:00': {'1. open': '2788.6150',\n",
              "   '2. high': '2794.3100',\n",
              "   '3. low': '2787.2700',\n",
              "   '4. close': '2792.5900',\n",
              "   '5. volume': '44787'},\n",
              "  '2022-01-14 16:00:00': {'1. open': '2794.4700',\n",
              "   '2. high': '2794.9900',\n",
              "   '3. low': '2783.7700',\n",
              "   '4. close': '2787.3300',\n",
              "   '5. volume': '133224'},\n",
              "  '2022-01-14 16:15:00': {'1. open': '2789.6100',\n",
              "   '2. high': '2791.2700',\n",
              "   '3. low': '2789.0000',\n",
              "   '4. close': '2789.0000',\n",
              "   '5. volume': '56218'},\n",
              "  '2022-01-14 16:30:00': {'1. open': '2789.0000',\n",
              "   '2. high': '2789.0100',\n",
              "   '3. low': '2779.6100',\n",
              "   '4. close': '2784.2000',\n",
              "   '5. volume': '23230'},\n",
              "  '2022-01-14 16:45:00': {'1. open': '2784.2000',\n",
              "   '2. high': '2784.2300',\n",
              "   '3. low': '2783.0000',\n",
              "   '4. close': '2783.0000',\n",
              "   '5. volume': '4850'},\n",
              "  '2022-01-14 17:00:00': {'1. open': '2786.8800',\n",
              "   '2. high': '2786.8800',\n",
              "   '3. low': '2785.1000',\n",
              "   '4. close': '2785.1000',\n",
              "   '5. volume': '664'},\n",
              "  '2022-01-14 17:30:00': {'1. open': '2788.6100',\n",
              "   '2. high': '2788.6100',\n",
              "   '3. low': '2788.6100',\n",
              "   '4. close': '2788.6100',\n",
              "   '5. volume': '205'},\n",
              "  '2022-01-14 20:00:00': {'1. open': '2786.9000',\n",
              "   '2. high': '2786.9000',\n",
              "   '3. low': '2786.9000',\n",
              "   '4. close': '2786.9000',\n",
              "   '5. volume': '230'}},\n",
              " {'1. Information': 'Intraday (15min) open, high, low, close prices and volume',\n",
              "  '2. Symbol': 'GOOGL',\n",
              "  '3. Last Refreshed': '2022-01-14 20:00:00',\n",
              "  '4. Interval': '15min',\n",
              "  '5. Output Size': 'Compact',\n",
              "  '6. Time Zone': 'US/Eastern'})"
            ]
          },
          "metadata": {},
          "execution_count": 5
        }
      ]
    },
    {
      "cell_type": "code",
      "source": [
        ""
      ],
      "metadata": {
        "id": "JRQE_Ow2CUMc"
      },
      "execution_count": null,
      "outputs": []
    }
  ]
}